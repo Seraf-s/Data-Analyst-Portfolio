{
 "cells": [
  {
   "cell_type": "code",
   "execution_count": null,
   "id": "ab0dbc90-0437-4e68-a797-d211d0552eda",
   "metadata": {},
   "outputs": [],
   "source": [
    "# Import Libraries\n",
    "\n",
    "import pandas as pd\n",
    "import seaborn as sns\n",
    "import numpy as np\n",
    "\n",
    "import matplotlib\n",
    "import matplotlib.pyplot as plt\n",
    "plt.style.use('ggplot')\n",
    "from matplotlib.pyplot import figure\n",
    "\n",
    "%matplotlib inline\n",
    "matplotlib.rcParams['figure.figsize'] = (12,8) #Adjust the configuration of the plots we will create\n",
    "\n",
    "# Read in the data\n",
    "\n",
    "df = pd.read_csv(r'e:\\Python\\movies.csv')"
   ]
  },
  {
   "cell_type": "code",
   "execution_count": null,
   "id": "1f17a70e-eaad-44c7-bbca-c0b05cb9f8a8",
   "metadata": {},
   "outputs": [],
   "source": [
    "#Check data\n",
    "df.head()"
   ]
  },
  {
   "cell_type": "code",
   "execution_count": null,
   "id": "447ccd0f-a6e4-4480-ac78-afacc34d4f89",
   "metadata": {},
   "outputs": [],
   "source": [
    "#Check if missing data\n",
    "\n",
    "for col in df.columns:\n",
    "   pct_missing = np.mean(df[col].isnull())\n",
    "   print('{} - {}%'.format(col, pct_missing))"
   ]
  },
  {
   "cell_type": "code",
   "execution_count": null,
   "id": "8083acf9-16c3-4e03-9d05-c305669fc583",
   "metadata": {},
   "outputs": [],
   "source": [
    "#Data types for our columns\n",
    "\n",
    "print(df.dtypes)"
   ]
  },
  {
   "cell_type": "code",
   "execution_count": null,
   "id": "ec729c01-e6cf-4f14-9886-9f61ca50acd6",
   "metadata": {},
   "outputs": [],
   "source": [
    "df = df.fillna(0)\n",
    "df['gross'] = df['gross'].astype('int64')\n",
    "df['budget'] = df['budget'].astype('int64')"
   ]
  },
  {
   "cell_type": "code",
   "execution_count": null,
   "id": "bc7d3ebb-abf3-4815-9ceb-e2094fdf025f",
   "metadata": {
    "scrolled": true
   },
   "outputs": [],
   "source": [
    "df.head()"
   ]
  },
  {
   "cell_type": "code",
   "execution_count": null,
   "id": "a6abe109-7f60-4da5-b370-7d35ad326d15",
   "metadata": {},
   "outputs": [],
   "source": [
    "# Create correct year column\n",
    "\n",
    "df['yearcorrect'] = df['year'].astype(str).str[:4]\n",
    "df.head()"
   ]
  },
  {
   "cell_type": "code",
   "execution_count": null,
   "id": "16b08e05-b714-4dda-ab29-08aa0b3bf20c",
   "metadata": {},
   "outputs": [],
   "source": [
    "df = df.sort_values(by=['gross'], inplace=False, ascending=False)"
   ]
  },
  {
   "cell_type": "code",
   "execution_count": null,
   "id": "c6c384ed-bd2b-47af-9ada-482a0e97c123",
   "metadata": {},
   "outputs": [],
   "source": [
    "pd.set_option('display.max_rows', None) #display all of data"
   ]
  },
  {
   "cell_type": "code",
   "execution_count": null,
   "id": "1b2f3fe3-b0e7-42fc-9b05-18e8db6e84a0",
   "metadata": {},
   "outputs": [],
   "source": [
    "# Drop any duplicates\n",
    "#@df.drop_duplicates()\n",
    "#df['star'].drop_duplicates()\n",
    "df['star'] = df['star'].astype(str)\n",
    "df['star'].drop_duplicates().sort_values(ascending=False)"
   ]
  },
  {
   "cell_type": "code",
   "execution_count": null,
   "id": "f4231543-215b-4cb8-b0bb-6714c330f003",
   "metadata": {},
   "outputs": [],
   "source": [
    "# Budget high corelation\n",
    "# Company high corelation"
   ]
  },
  {
   "cell_type": "code",
   "execution_count": null,
   "id": "72bc07c2-dca4-419a-9e30-95d31fedc0c8",
   "metadata": {},
   "outputs": [],
   "source": [
    "# Plot the budget vs gross usinf seaborn\n",
    "sns.regplot(x='budget', y='gross', data=df, scatter_kws={\"color\": \"red\"}, line_kws={\"color\": \"blue\"})"
   ]
  },
  {
   "cell_type": "code",
   "execution_count": null,
   "id": "17a9ea69-d150-4ab2-b509-998e4f97bbe7",
   "metadata": {},
   "outputs": [],
   "source": [
    "# Scatter plot with budget vs gross\n",
    "\n",
    "plt.scatter(x=df['budget'], y=df['gross'])\n",
    "\n",
    "plt.title('Budget vs Gross Earnings')\n",
    "plt.xlabel('Gross Earnings')\n",
    "plt.ylabel('Budget for film')\n",
    "\n",
    "plt.show()"
   ]
  },
  {
   "cell_type": "code",
   "execution_count": null,
   "id": "1f5ad922-447f-4dfb-ab0c-3f1bfb99df71",
   "metadata": {},
   "outputs": [],
   "source": [
    "df[['budget', 'gross', 'runtime', 'score', 'votes', 'year']].corr(method='pearson') #pearson kendall speraman"
   ]
  },
  {
   "cell_type": "code",
   "execution_count": null,
   "id": "57de5526-b4df-4349-b56d-5f5ea7f3b5b7",
   "metadata": {},
   "outputs": [],
   "source": [
    "corelation_matrix = df[['budget', 'gross', 'runtime', 'score', 'votes', 'year']].corr(method='pearson')\n",
    "sns.heatmap(corelation_matrix, annot=True)\n",
    "\n",
    "plt.title('Corelation Matric for Numeric Features')\n",
    "plt.xlabel('Movie Features')\n",
    "plt.ylabel('Movie Features')\n",
    "\n",
    "plt.show()"
   ]
  },
  {
   "cell_type": "code",
   "execution_count": null,
   "id": "0a9c37d7-ff18-4ad3-83b7-7f2f0f801385",
   "metadata": {},
   "outputs": [],
   "source": [
    "df_numerized = df\n",
    "\n",
    "for col_name in df_numerized.columns:\n",
    "    if(df_numerized[col_name].dtype == 'object'):\n",
    "       df_numerized[col_name] = df_numerized[col_name].astype('category')\n",
    "       df_numerized[col_name] = df_numerized[col_name].cat.codes #random numerization\n",
    "df_numerized"
   ]
  },
  {
   "cell_type": "code",
   "execution_count": null,
   "id": "a45184a0-77f2-4793-8972-541a0df3ed5f",
   "metadata": {},
   "outputs": [],
   "source": [
    "df.head()"
   ]
  },
  {
   "cell_type": "code",
   "execution_count": null,
   "id": "46a796fb-97f6-434f-8648-5697e585a4d3",
   "metadata": {},
   "outputs": [],
   "source": [
    "corelation_matrix = df_numerized.corr(method='pearson')\n",
    "sns.heatmap(corelation_matrix, annot=True)\n",
    "\n",
    "plt.title('Corelation Matric for Numeric Features')\n",
    "plt.xlabel('Movie Features')\n",
    "plt.ylabel('Movie Features')\n",
    "\n",
    "plt.show()"
   ]
  },
  {
   "cell_type": "code",
   "execution_count": null,
   "id": "a262ff66-9611-4767-8ca6-c1a1f2056c08",
   "metadata": {},
   "outputs": [],
   "source": [
    "correlation_mat = df_numerized.corr()\n",
    "\n",
    "corr_pairs = correlation_mat.unstack()\n",
    "\n",
    "corr_pairs"
   ]
  },
  {
   "cell_type": "code",
   "execution_count": null,
   "id": "f397392c-b60e-4798-bd3a-36761a22ef20",
   "metadata": {},
   "outputs": [],
   "source": [
    "sorted_pairs = corr_pairs.sort_values()\n",
    "sorted_pairs"
   ]
  },
  {
   "cell_type": "code",
   "execution_count": null,
   "id": "3ab3de90-c49b-4907-a4bc-b6f31cec2f3b",
   "metadata": {},
   "outputs": [],
   "source": [
    "high_corr = sorted_pairs[(sorted_pairs) > 0.3]\n",
    "\n",
    "high_corr"
   ]
  },
  {
   "cell_type": "code",
   "execution_count": null,
   "id": "29252b14-bc31-4d0a-b589-e21241b290ca",
   "metadata": {},
   "outputs": [],
   "source": []
  }
 ],
 "metadata": {
  "kernelspec": {
   "display_name": "Python 3 (ipykernel)",
   "language": "python",
   "name": "python3"
  },
  "language_info": {
   "codemirror_mode": {
    "name": "ipython",
    "version": 3
   },
   "file_extension": ".py",
   "mimetype": "text/x-python",
   "name": "python",
   "nbconvert_exporter": "python",
   "pygments_lexer": "ipython3",
   "version": "3.12.7"
  }
 },
 "nbformat": 4,
 "nbformat_minor": 5
}
